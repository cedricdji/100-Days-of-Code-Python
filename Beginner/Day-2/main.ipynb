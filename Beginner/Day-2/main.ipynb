{
 "cells": [
  {
   "cell_type": "markdown",
   "metadata": {},
   "source": [
    "<center><a href=\"#\"><img src = \"https://3d-media.pro/images/Logo-DATA-For-Developpement.png\" width = 250, align = \"center\"></a></center>"
   ]
  },
  {
   "cell_type": "markdown",
   "metadata": {},
   "source": [
    "# 100 DAYS OF CODE PYTHON"
   ]
  },
  {
   "cell_type": "markdown",
   "metadata": {},
   "source": [
    "### Day 2 Project : Tip Calculator"
   ]
  },
  {
   "cell_type": "code",
   "execution_count": 7,
   "metadata": {},
   "outputs": [
    {
     "name": "stdout",
     "output_type": "stream",
     "text": [
      "Note: you may need to restart the kernel to use updated packages.\n"
     ]
    }
   ],
   "source": [
    "# I get the requirements\n",
    "pip freeze > requirements.txt"
   ]
  },
  {
   "cell_type": "code",
   "execution_count": 6,
   "metadata": {},
   "outputs": [
    {
     "name": "stdout",
     "output_type": "stream",
     "text": [
      "Welcome to my Tip Calculator\n",
      "Each person should pay : 131.04\n"
     ]
    }
   ],
   "source": [
    "# Welcome message\n",
    "print(\"Welcome to my Tip Calculator\")\n",
    "\n",
    "# Obtain Variable of the bill\n",
    "Total_bill = float(input(\"What was the Total Bill ? $:\"))\n",
    "\n",
    "# Obtain Variable Number of Person\n",
    "People = int(input(\"How many People to split the Bill?\"))\n",
    "\n",
    "# Obtain tip you whish to pay\n",
    "Percentage_tip = int(input(\"What percentage Tip would you like to give? 10, 12 or 15 ?\")) \n",
    "\n",
    "# Print the result\n",
    "print( \"Each person should pay : \" + str( (((Total_bill * Percentage_tip) / 100)+ Total_bill) / People) )"
   ]
  }
 ],
 "metadata": {
  "kernelspec": {
   "display_name": "100-days-code-python",
   "language": "python",
   "name": "python3"
  },
  "language_info": {
   "codemirror_mode": {
    "name": "ipython",
    "version": 3
   },
   "file_extension": ".py",
   "mimetype": "text/x-python",
   "name": "python",
   "nbconvert_exporter": "python",
   "pygments_lexer": "ipython3",
   "version": "3.11.5"
  }
 },
 "nbformat": 4,
 "nbformat_minor": 2
}
